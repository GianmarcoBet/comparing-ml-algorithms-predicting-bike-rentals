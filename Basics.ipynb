{
 "cells": [
  {
   "cell_type": "markdown",
   "metadata": {},
   "source": [
    "# Predicting bike rentals in Washington D.C.\n",
    "\n",
    "In this project we build several machine learning model to predict the number of bikes rented per day in Washington D.C. Our goal is to compare the performance of Linear Regression, Trees and Random Forests.\n",
    "\n",
    "The data was compiled by Hadi Fanaee-T at the University of Porto and can be downloaded [here](http://archive.ics.uci.edu/ml/datasets/Bike+Sharing+Dataset).\n",
    "\n",
    "We begin by loading the data and exploring the distribution and correlations of the target column _cnt_ which represents the total number of bike rentals each day. In particular, each row in the dataset represents one day. Note that for each row, the value of the _cnt_ column is given by the sum of the _casual_ column and the _registered_ column, so we will leave these two out of our features.\n",
    "\n",
    "Our error metric of choice is the Mean Absolute Error (MEA) because it is easier to interpret in this context."
   ]
  },
  {
   "cell_type": "code",
   "execution_count": 63,
   "metadata": {
    "collapsed": false
   },
   "outputs": [],
   "source": [
    "%matplotlib inline\n",
    "import pandas as pd\n",
    "import numpy as np\n",
    "import matplotlib.pyplot as plt\n",
    "import seaborn as sns\n",
    "from sklearn.metrics import mean_absolute_error\n",
    "from sklearn.linear_model import LinearRegression\n",
    "from sklearn.tree import DecisionTreeRegressor\n",
    "from sklearn.ensemble import RandomForestRegressor"
   ]
  },
  {
   "cell_type": "code",
   "execution_count": 2,
   "metadata": {
    "collapsed": false
   },
   "outputs": [
    {
     "data": {
      "text/html": [
       "<div>\n",
       "<style scoped>\n",
       "    .dataframe tbody tr th:only-of-type {\n",
       "        vertical-align: middle;\n",
       "    }\n",
       "\n",
       "    .dataframe tbody tr th {\n",
       "        vertical-align: top;\n",
       "    }\n",
       "\n",
       "    .dataframe thead th {\n",
       "        text-align: right;\n",
       "    }\n",
       "</style>\n",
       "<table border=\"1\" class=\"dataframe\">\n",
       "  <thead>\n",
       "    <tr style=\"text-align: right;\">\n",
       "      <th></th>\n",
       "      <th>instant</th>\n",
       "      <th>dteday</th>\n",
       "      <th>season</th>\n",
       "      <th>yr</th>\n",
       "      <th>mnth</th>\n",
       "      <th>hr</th>\n",
       "      <th>holiday</th>\n",
       "      <th>weekday</th>\n",
       "      <th>workingday</th>\n",
       "      <th>weathersit</th>\n",
       "      <th>temp</th>\n",
       "      <th>atemp</th>\n",
       "      <th>hum</th>\n",
       "      <th>windspeed</th>\n",
       "      <th>casual</th>\n",
       "      <th>registered</th>\n",
       "      <th>cnt</th>\n",
       "    </tr>\n",
       "  </thead>\n",
       "  <tbody>\n",
       "    <tr>\n",
       "      <th>0</th>\n",
       "      <td>1</td>\n",
       "      <td>2011-01-01</td>\n",
       "      <td>1</td>\n",
       "      <td>0</td>\n",
       "      <td>1</td>\n",
       "      <td>0</td>\n",
       "      <td>0</td>\n",
       "      <td>6</td>\n",
       "      <td>0</td>\n",
       "      <td>1</td>\n",
       "      <td>0.24</td>\n",
       "      <td>0.2879</td>\n",
       "      <td>0.81</td>\n",
       "      <td>0.0</td>\n",
       "      <td>3</td>\n",
       "      <td>13</td>\n",
       "      <td>16</td>\n",
       "    </tr>\n",
       "    <tr>\n",
       "      <th>1</th>\n",
       "      <td>2</td>\n",
       "      <td>2011-01-01</td>\n",
       "      <td>1</td>\n",
       "      <td>0</td>\n",
       "      <td>1</td>\n",
       "      <td>1</td>\n",
       "      <td>0</td>\n",
       "      <td>6</td>\n",
       "      <td>0</td>\n",
       "      <td>1</td>\n",
       "      <td>0.22</td>\n",
       "      <td>0.2727</td>\n",
       "      <td>0.80</td>\n",
       "      <td>0.0</td>\n",
       "      <td>8</td>\n",
       "      <td>32</td>\n",
       "      <td>40</td>\n",
       "    </tr>\n",
       "    <tr>\n",
       "      <th>2</th>\n",
       "      <td>3</td>\n",
       "      <td>2011-01-01</td>\n",
       "      <td>1</td>\n",
       "      <td>0</td>\n",
       "      <td>1</td>\n",
       "      <td>2</td>\n",
       "      <td>0</td>\n",
       "      <td>6</td>\n",
       "      <td>0</td>\n",
       "      <td>1</td>\n",
       "      <td>0.22</td>\n",
       "      <td>0.2727</td>\n",
       "      <td>0.80</td>\n",
       "      <td>0.0</td>\n",
       "      <td>5</td>\n",
       "      <td>27</td>\n",
       "      <td>32</td>\n",
       "    </tr>\n",
       "    <tr>\n",
       "      <th>3</th>\n",
       "      <td>4</td>\n",
       "      <td>2011-01-01</td>\n",
       "      <td>1</td>\n",
       "      <td>0</td>\n",
       "      <td>1</td>\n",
       "      <td>3</td>\n",
       "      <td>0</td>\n",
       "      <td>6</td>\n",
       "      <td>0</td>\n",
       "      <td>1</td>\n",
       "      <td>0.24</td>\n",
       "      <td>0.2879</td>\n",
       "      <td>0.75</td>\n",
       "      <td>0.0</td>\n",
       "      <td>3</td>\n",
       "      <td>10</td>\n",
       "      <td>13</td>\n",
       "    </tr>\n",
       "    <tr>\n",
       "      <th>4</th>\n",
       "      <td>5</td>\n",
       "      <td>2011-01-01</td>\n",
       "      <td>1</td>\n",
       "      <td>0</td>\n",
       "      <td>1</td>\n",
       "      <td>4</td>\n",
       "      <td>0</td>\n",
       "      <td>6</td>\n",
       "      <td>0</td>\n",
       "      <td>1</td>\n",
       "      <td>0.24</td>\n",
       "      <td>0.2879</td>\n",
       "      <td>0.75</td>\n",
       "      <td>0.0</td>\n",
       "      <td>0</td>\n",
       "      <td>1</td>\n",
       "      <td>1</td>\n",
       "    </tr>\n",
       "  </tbody>\n",
       "</table>\n",
       "</div>"
      ],
      "text/plain": [
       "   instant      dteday  season  yr  mnth  hr  holiday  weekday  workingday  \\\n",
       "0        1  2011-01-01       1   0     1   0        0        6           0   \n",
       "1        2  2011-01-01       1   0     1   1        0        6           0   \n",
       "2        3  2011-01-01       1   0     1   2        0        6           0   \n",
       "3        4  2011-01-01       1   0     1   3        0        6           0   \n",
       "4        5  2011-01-01       1   0     1   4        0        6           0   \n",
       "\n",
       "   weathersit  temp   atemp   hum  windspeed  casual  registered  cnt  \n",
       "0           1  0.24  0.2879  0.81        0.0       3          13   16  \n",
       "1           1  0.22  0.2727  0.80        0.0       8          32   40  \n",
       "2           1  0.22  0.2727  0.80        0.0       5          27   32  \n",
       "3           1  0.24  0.2879  0.75        0.0       3          10   13  \n",
       "4           1  0.24  0.2879  0.75        0.0       0           1    1  "
      ]
     },
     "execution_count": 2,
     "metadata": {},
     "output_type": "execute_result"
    }
   ],
   "source": [
    "bike_rentals = pd.read_csv('bike_rental_hour.csv')\n",
    "bike_rentals.head()"
   ]
  },
  {
   "cell_type": "code",
   "execution_count": 3,
   "metadata": {
    "collapsed": false
   },
   "outputs": [
    {
     "data": {
      "image/png": "[encoded data removed]",
      "text/plain": [
       "<matplotlib.figure.Figure at 0x7fd7813c5d68>"
      ]
     },
     "metadata": {},
     "output_type": "display_data"
    }
   ],
   "source": [
    "plt.style.use('fivethirtyeight')\n",
    "\n",
    "bike_rentals['cnt'].hist()\n",
    "plt.title('Total number of bike rentals', y=1.05)\n",
    "plt.show()"
   ]
  },
  {
   "cell_type": "code",
   "execution_count": 4,
   "metadata": {
    "collapsed": false
   },
   "outputs": [
    {
     "data": {
      "image/png": "[encoded data removed]",
      "text/plain": [
       "<matplotlib.figure.Figure at 0x7fd77f1ad4e0>"
      ]
     },
     "metadata": {},
     "output_type": "display_data"
    }
   ],
   "source": [
    "correlations = bike_rentals.corr()\n",
    "sns.heatmap(correlations)\n",
    "plt.show()"
   ]
  },
  {
   "cell_type": "markdown",
   "metadata": {},
   "source": [
    "## Feature engineering\n",
    "\n",
    "We bundle hours together according to the following dictionary:\n",
    "\n",
    "1: (morning) from 6am to 12am\n",
    "\n",
    "2: (afternoon) from 12am to 6pm\n",
    "\n",
    "3: (evening) from 6pm to 12pm\n",
    "\n",
    "4: (night) from 12pm to 6am"
   ]
  },
  {
   "cell_type": "code",
   "execution_count": 5,
   "metadata": {
    "collapsed": true
   },
   "outputs": [],
   "source": [
    "def assign_label(hour):\n",
    "    # Morning\n",
    "    if 6 <= hour < 12:\n",
    "        return 1\n",
    "    \n",
    "    # Afternoon\n",
    "    elif 12 <= hour < 18:\n",
    "        return 2\n",
    "    \n",
    "    # Evening\n",
    "    elif 18 <= hour < 24:\n",
    "        return 3\n",
    "    \n",
    "    # Night\n",
    "    elif 0 <= hour < 6:\n",
    "        return 4\n",
    "    \n",
    "bike_rentals['time_label'] = bike_rentals['hr'].apply(assign_label)"
   ]
  },
  {
   "cell_type": "markdown",
   "metadata": {},
   "source": [
    "## Linear Regression\n",
    "\n",
    "Next we manually create train and test datasets. Next, we will use a linear regression using all columns except for _cnt_, _casual_, _dteday_ and _registered_ as features."
   ]
  },
  {
   "cell_type": "code",
   "execution_count": 6,
   "metadata": {
    "collapsed": false
   },
   "outputs": [],
   "source": [
    "train_percent = .8\n",
    "nr_rows = bike_rentals.shape[0]\n",
    "train = bike_rentals.sample(int(nr_rows * train_percent), axis=0)\n",
    "test = bike_rentals.loc[~bike_rentals.index.isin(train.index)]"
   ]
  },
  {
   "cell_type": "code",
   "execution_count": 7,
   "metadata": {
    "collapsed": true
   },
   "outputs": [],
   "source": [
    "columns = bike_rentals.columns.values\n",
    "features = [x for x in columns if x not in ['cnt', 'casual', 'dteday', 'registered']]"
   ]
  },
  {
   "cell_type": "code",
   "execution_count": 34,
   "metadata": {
    "collapsed": false
   },
   "outputs": [
    {
     "name": "stdout",
     "output_type": "stream",
     "text": [
      "Number of features: 14\n",
      "Mean Absolute Error: 99.293\n",
      "Mean target: 189.4974\n",
      "----------\n",
      "Number of features: 3\n",
      "Mean Absolute Error: 109.6901\n",
      "Mean target: 189.4974\n"
     ]
    }
   ],
   "source": [
    "def train_and_test_lr(features):\n",
    "    lr = LinearRegression()\n",
    "    lr.fit(train[features], train['cnt'])\n",
    "\n",
    "    predictions_lr = lr.predict(test[features])\n",
    "    error = mean_absolute_error(predictions_lr, test['cnt'])\n",
    "    print('Number of features: {0}\\nMean Absolute Error: {1}\\nMean target: {2}'.format(len(features), round(error,4), round(np.mean(test['cnt']),4)))\n",
    "    \n",
    "train_and_test_lr(features)\n",
    "print('-' * 10)\n",
    "train_and_test_lr(['hr', 'atemp', 'hum'])"
   ]
  },
  {
   "cell_type": "markdown",
   "metadata": {
    "collapsed": true
   },
   "source": [
    "### Conclusions\n",
    "\n",
    "The MAE is very large compared to a typical entry in the target column. \n",
    "\n",
    "## Decision Trees\n",
    "\n",
    "For our next approach, we will train a decision tree and compare the error with the above."
   ]
  },
  {
   "cell_type": "code",
   "execution_count": 51,
   "metadata": {
    "collapsed": false
   },
   "outputs": [
    {
     "name": "stdout",
     "output_type": "stream",
     "text": [
      "Mean target: 189.4974\n",
      "----------\n",
      "Minimum number of samples in a leaf: 1\n",
      "Max depth: None\n",
      "Mean Absolute Error: 33.8403\n",
      "\n",
      "Minimum number of samples in a leaf: 2\n",
      "Max depth: None\n",
      "Mean Absolute Error: 32.4361\n",
      "\n",
      "Minimum number of samples in a leaf: 3\n",
      "Max depth: None\n",
      "Mean Absolute Error: 31.3772\n",
      "\n",
      "Minimum number of samples in a leaf: 4\n",
      "Max depth: None\n",
      "Mean Absolute Error: 30.504\n",
      "\n",
      "Minimum number of samples in a leaf: 5\n",
      "Max depth: None\n",
      "Mean Absolute Error: 30.3485\n",
      "\n",
      "Minimum number of samples in a leaf: 6\n",
      "Max depth: None\n",
      "Mean Absolute Error: 31.1586\n",
      "\n"
     ]
    }
   ],
   "source": [
    "def train_and_test_dtr(features, min_samples_leaf=1, max_depth=None):\n",
    "    dtr = DecisionTreeRegressor(min_samples_leaf=min_samples_leaf, max_depth=max_depth)\n",
    "\n",
    "    dtr.fit(train[features], train['cnt'])\n",
    "    predictions_dtr = dtr.predict(test[features])\n",
    "\n",
    "    error = mean_absolute_error(predictions_dtr, test['cnt'])\n",
    "    print('''Minimum number of samples in a leaf: {0}\\nMax depth: {1}\\nMean Absolute Error: {2}\\n'''.format(min_samples_leaf, max_depth, round(error,4)))\n",
    "\n",
    "print('Mean target: {0}'.format(round(np.mean(test['cnt']),4)))\n",
    "print('-' * 10)\n",
    "for k in range(1,7):\n",
    "    train_and_test_dtr(features, k)"
   ]
  },
  {
   "cell_type": "code",
   "execution_count": 60,
   "metadata": {
    "collapsed": false
   },
   "outputs": [
    {
     "name": "stdout",
     "output_type": "stream",
     "text": [
      "Minimum number of samples in a leaf: 5\n",
      "Max depth: 10\n",
      "Mean Absolute Error: 36.8643\n",
      "\n",
      "Minimum number of samples in a leaf: 5\n",
      "Max depth: 11\n",
      "Mean Absolute Error: 34.36\n",
      "\n",
      "Minimum number of samples in a leaf: 5\n",
      "Max depth: 12\n",
      "Mean Absolute Error: 32.3171\n",
      "\n",
      "Minimum number of samples in a leaf: 5\n",
      "Max depth: 13\n",
      "Mean Absolute Error: 31.3691\n",
      "\n",
      "Minimum number of samples in a leaf: 5\n",
      "Max depth: 14\n",
      "Mean Absolute Error: 30.9534\n",
      "\n",
      "Minimum number of samples in a leaf: 5\n",
      "Max depth: 15\n",
      "Mean Absolute Error: 30.8378\n",
      "\n",
      "Minimum number of samples in a leaf: 5\n",
      "Max depth: 16\n",
      "Mean Absolute Error: 30.5256\n",
      "\n",
      "Minimum number of samples in a leaf: 5\n",
      "Max depth: 17\n",
      "Mean Absolute Error: 30.3125\n",
      "\n",
      "Minimum number of samples in a leaf: 5\n",
      "Max depth: 18\n",
      "Mean Absolute Error: 30.3065\n",
      "\n",
      "Minimum number of samples in a leaf: 5\n",
      "Max depth: 19\n",
      "Mean Absolute Error: 30.3469\n",
      "\n",
      "Minimum number of samples in a leaf: 5\n",
      "Max depth: 20\n",
      "Mean Absolute Error: 30.3468\n",
      "\n",
      "Minimum number of samples in a leaf: 5\n",
      "Max depth: 21\n",
      "Mean Absolute Error: 30.3207\n",
      "\n",
      "Minimum number of samples in a leaf: 5\n",
      "Max depth: 22\n",
      "Mean Absolute Error: 30.3407\n",
      "\n",
      "Minimum number of samples in a leaf: 5\n",
      "Max depth: 23\n",
      "Mean Absolute Error: 30.3171\n",
      "\n",
      "Minimum number of samples in a leaf: 5\n",
      "Max depth: 24\n",
      "Mean Absolute Error: 30.3696\n",
      "\n"
     ]
    }
   ],
   "source": [
    "for k in range(10,25):\n",
    "    train_and_test_dtr(features, min_samples_leaf=5, max_depth=k)"
   ]
  },
  {
   "cell_type": "markdown",
   "metadata": {},
   "source": [
    "## Random Forests"
   ]
  },
  {
   "cell_type": "code",
   "execution_count": 68,
   "metadata": {
    "collapsed": false
   },
   "outputs": [
    {
     "name": "stdout",
     "output_type": "stream",
     "text": [
      "Mean target: 189.4974\n",
      "----------\n",
      "Minimum number of samples in a leaf: 1\n",
      "Max depth: None\n",
      "Mean Absolute Error: 26.3062\n",
      "\n",
      "Minimum number of samples in a leaf: 2\n",
      "Max depth: None\n",
      "Mean Absolute Error: 25.7677\n",
      "\n",
      "Minimum number of samples in a leaf: 3\n",
      "Max depth: None\n",
      "Mean Absolute Error: 26.2132\n",
      "\n",
      "Minimum number of samples in a leaf: 4\n",
      "Max depth: None\n",
      "Mean Absolute Error: 26.419\n",
      "\n",
      "Minimum number of samples in a leaf: 5\n",
      "Max depth: None\n",
      "Mean Absolute Error: 26.8307\n",
      "\n",
      "Minimum number of samples in a leaf: 6\n",
      "Max depth: None\n",
      "Mean Absolute Error: 27.48\n",
      "\n"
     ]
    }
   ],
   "source": [
    "def train_and_test_rfr(features, min_samples_leaf=1, max_depth=None):\n",
    "    rfr = RandomForestRegressor(min_samples_leaf=min_samples_leaf, max_depth=max_depth)\n",
    "\n",
    "    rfr.fit(train[features], train['cnt'])\n",
    "    predictions_rfr = rfr.predict(test[features])\n",
    "\n",
    "    error = mean_absolute_error(predictions_rfr, test['cnt'])\n",
    "    print('''Minimum number of samples in a leaf: {0}\\nMax depth: {1}\\nMean Absolute Error: {2}\\n'''.format(min_samples_leaf, max_depth, round(error,4)))\n",
    "\n",
    "print('Mean target: {0}'.format(round(np.mean(test['cnt']),4)))\n",
    "print('-' * 10)\n",
    "for k in range(1,7):\n",
    "    train_and_test_rfr(features, k)"
   ]
  },
  {
   "cell_type": "markdown",
   "metadata": {},
   "source": [
    "## Conclusions\n",
    "\n",
    "The Random Forests perform the best, and optimizing the maximum number of samples in a leaf"
   ]
  },
  {
   "cell_type": "code",
   "execution_count": null,
   "metadata": {
    "collapsed": true
   },
   "outputs": [],
   "source": []
  }
 ],
 "metadata": {
  "kernelspec": {
   "display_name": "Python 3",
   "language": "python",
   "name": "python3"
  },
  "language_info": {
   "codemirror_mode": {
    "name": "ipython",
    "version": 3
   },
   "file_extension": ".py",
   "mimetype": "text/x-python",
   "name": "python",
   "nbconvert_exporter": "python",
   "pygments_lexer": "ipython3",
   "version": "3.4.3"
  }
 },
 "nbformat": 4,
 "nbformat_minor": 0
}
